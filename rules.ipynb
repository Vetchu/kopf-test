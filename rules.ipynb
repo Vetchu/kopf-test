{
 "cells": [
  {
   "cell_type": "code",
   "execution_count": 11,
   "id": "initial_id",
   "metadata": {
    "collapsed": true,
    "ExecuteTime": {
     "end_time": "2023-12-11T07:36:17.163604600Z",
     "start_time": "2023-12-11T07:36:17.093447200Z"
    }
   },
   "outputs": [
    {
     "data": {
      "text/plain": "           source_ip                dest_ip    dest_port BLOCK/ALLOW\n0       [0.0.0.0, 0]      [10.55.163.0, 24]  [ALL, None]       BLOCK\n1  [10.55.163.0, 24]           [0.0.0.0, 0]  [ALL, None]       ALLOW\n2       [0.0.0.0, 0]  [10.55.163.141, None]   [443, tcp]       ALLOW\n3       [0.0.0.0, 0]  [10.55.163.141, None]  [6443, tcp]       ALLOW\n4       [0.0.0.0, 0]  [10.55.163.141, None]    [80, tcp]       ALLOW",
      "text/html": "<div>\n<style scoped>\n    .dataframe tbody tr th:only-of-type {\n        vertical-align: middle;\n    }\n\n    .dataframe tbody tr th {\n        vertical-align: top;\n    }\n\n    .dataframe thead th {\n        text-align: right;\n    }\n</style>\n<table border=\"1\" class=\"dataframe\">\n  <thead>\n    <tr style=\"text-align: right;\">\n      <th></th>\n      <th>source_ip</th>\n      <th>dest_ip</th>\n      <th>dest_port</th>\n      <th>BLOCK/ALLOW</th>\n    </tr>\n  </thead>\n  <tbody>\n    <tr>\n      <th>0</th>\n      <td>[0.0.0.0, 0]</td>\n      <td>[10.55.163.0, 24]</td>\n      <td>[ALL, None]</td>\n      <td>BLOCK</td>\n    </tr>\n    <tr>\n      <th>1</th>\n      <td>[10.55.163.0, 24]</td>\n      <td>[0.0.0.0, 0]</td>\n      <td>[ALL, None]</td>\n      <td>ALLOW</td>\n    </tr>\n    <tr>\n      <th>2</th>\n      <td>[0.0.0.0, 0]</td>\n      <td>[10.55.163.141, None]</td>\n      <td>[443, tcp]</td>\n      <td>ALLOW</td>\n    </tr>\n    <tr>\n      <th>3</th>\n      <td>[0.0.0.0, 0]</td>\n      <td>[10.55.163.141, None]</td>\n      <td>[6443, tcp]</td>\n      <td>ALLOW</td>\n    </tr>\n    <tr>\n      <th>4</th>\n      <td>[0.0.0.0, 0]</td>\n      <td>[10.55.163.141, None]</td>\n      <td>[80, tcp]</td>\n      <td>ALLOW</td>\n    </tr>\n  </tbody>\n</table>\n</div>"
     },
     "execution_count": 11,
     "metadata": {},
     "output_type": "execute_result"
    }
   ],
   "source": [
    "import pandas as pd\n",
    "import io\n",
    "\n",
    "# Sample data\n",
    "data = \"\"\"source_ip dest_ip dest_port BLOCK/ALLOW\n",
    "0.0.0.0/0 10.55.163.0/24 ALL BLOCK\n",
    "10.55.163.0/24 0.0.0.0/0 ALL ALLOW\n",
    "0.0.0.0/0 10.55.163.141 443/tcp ALLOW\n",
    "0.0.0.0/0 10.55.163.141 6443/tcp ALLOW\n",
    "0.0.0.0/0 10.55.163.141 80/tcp ALLOW\n",
    "\"\"\"\n",
    "\n",
    "\n",
    "# Create a DataFrame using a custom parser function\n",
    "def custom_parser(x):\n",
    "    parts = x.split('/')\n",
    "    if len(parts) == 1:\n",
    "        return [parts[0], None]\n",
    "    else:\n",
    "        return parts\n",
    "\n",
    "\n",
    "df = pd.read_csv(io.StringIO(data), delim_whitespace=True,\n",
    "                 converters={'source_ip': custom_parser, 'dest_ip': custom_parser, 'dest_port': custom_parser})\n",
    "df\n",
    "# # Create new columns for the values before and after the slash\n",
    "# df[['source_ip', 'source_port1', 'source_port2']] = pd.DataFrame(df['source_ip'].tolist(), index=df.index)\n",
    "# df[['dest_ip', 'dest_port1', 'dest_port2']] = pd.DataFrame(df['dest_ip'].tolist(), index=df.index)\n",
    "# \n",
    "# # Drop the original columns\n",
    "# df = df.drop(['source_ip', 'dest_ip'], axis=1)\n",
    "# \n",
    "# # Rename columns for better clarity\n",
    "# df.columns = ['BLOCK_ALLOW', 'source_ip', 'source_port1', 'source_port2', 'dest_ip', 'dest_port1', 'dest_port2']\n",
    "# \n",
    "# # Display the DataFrame\n",
    "# print(df)\n"
   ]
  },
  {
   "cell_type": "code",
   "execution_count": 18,
   "outputs": [
    {
     "data": {
      "text/plain": "     source_ip        dest_ip dest_port BLOCK/ALLOW source_ip_range  \\\n0      0.0.0.0    10.55.163.0       ALL       BLOCK               0   \n1  10.55.163.0        0.0.0.0       ALL       ALLOW              24   \n2      0.0.0.0  10.55.163.141       443       ALLOW               0   \n3      0.0.0.0  10.55.163.141      6443       ALLOW               0   \n4      0.0.0.0  10.55.163.141        80       ALLOW               0   \n\n  dest_ip_range dest_port_type  \n0            24           None  \n1             0           None  \n2          None            tcp  \n3          None            tcp  \n4          None            tcp  ",
      "text/html": "<div>\n<style scoped>\n    .dataframe tbody tr th:only-of-type {\n        vertical-align: middle;\n    }\n\n    .dataframe tbody tr th {\n        vertical-align: top;\n    }\n\n    .dataframe thead th {\n        text-align: right;\n    }\n</style>\n<table border=\"1\" class=\"dataframe\">\n  <thead>\n    <tr style=\"text-align: right;\">\n      <th></th>\n      <th>source_ip</th>\n      <th>dest_ip</th>\n      <th>dest_port</th>\n      <th>BLOCK/ALLOW</th>\n      <th>source_ip_range</th>\n      <th>dest_ip_range</th>\n      <th>dest_port_type</th>\n    </tr>\n  </thead>\n  <tbody>\n    <tr>\n      <th>0</th>\n      <td>0.0.0.0</td>\n      <td>10.55.163.0</td>\n      <td>ALL</td>\n      <td>BLOCK</td>\n      <td>0</td>\n      <td>24</td>\n      <td>None</td>\n    </tr>\n    <tr>\n      <th>1</th>\n      <td>10.55.163.0</td>\n      <td>0.0.0.0</td>\n      <td>ALL</td>\n      <td>ALLOW</td>\n      <td>24</td>\n      <td>0</td>\n      <td>None</td>\n    </tr>\n    <tr>\n      <th>2</th>\n      <td>0.0.0.0</td>\n      <td>10.55.163.141</td>\n      <td>443</td>\n      <td>ALLOW</td>\n      <td>0</td>\n      <td>None</td>\n      <td>tcp</td>\n    </tr>\n    <tr>\n      <th>3</th>\n      <td>0.0.0.0</td>\n      <td>10.55.163.141</td>\n      <td>6443</td>\n      <td>ALLOW</td>\n      <td>0</td>\n      <td>None</td>\n      <td>tcp</td>\n    </tr>\n    <tr>\n      <th>4</th>\n      <td>0.0.0.0</td>\n      <td>10.55.163.141</td>\n      <td>80</td>\n      <td>ALLOW</td>\n      <td>0</td>\n      <td>None</td>\n      <td>tcp</td>\n    </tr>\n  </tbody>\n</table>\n</div>"
     },
     "execution_count": 18,
     "metadata": {},
     "output_type": "execute_result"
    }
   ],
   "source": [
    "import pandas as pd\n",
    "import io\n",
    "\n",
    "# Sample data\n",
    "data = \"\"\"source_ip dest_ip dest_port BLOCK/ALLOW\n",
    "0.0.0.0/0 10.55.163.0/24 ALL BLOCK\n",
    "10.55.163.0/24 0.0.0.0/0 ALL ALLOW\n",
    "0.0.0.0/0 10.55.163.141 443/tcp ALLOW\n",
    "0.0.0.0/0 10.55.163.141 6443/tcp ALLOW\n",
    "0.0.0.0/0 10.55.163.141 80/tcp ALLOW\n",
    "\"\"\"\n",
    "\n",
    "def custom_parser(x):\n",
    "    parts = x.split('/')\n",
    "    if len(parts) == 1:\n",
    "        return pd.Series({'ip': parts[0], 'ip_range': None})\n",
    "    else:\n",
    "        return pd.Series({'ip': parts[0], 'ip_range': parts[1]})\n",
    "\n",
    "def split_dest_port(x):\n",
    "    parts = x.split('/')\n",
    "    if len(parts) == 1:\n",
    "        return pd.Series({'dest_port': parts[0], 'protocol': None})\n",
    "    else:\n",
    "        return pd.Series({'dest_port': parts[0], 'protocol': parts[1]})\n",
    "\n",
    "df = pd.read_csv(io.StringIO(data), delim_whitespace=True,\n",
    "                 converters={'source_ip': custom_parser, 'dest_ip': custom_parser, 'dest_port': split_dest_port})\n",
    "\n",
    "# Split 'source_ip' and 'dest_ip' into two separate columns\n",
    "df[['source_ip', 'source_ip_range']] = df['source_ip'].apply(pd.Series)\n",
    "df[['dest_ip', 'dest_ip_range']] = df['dest_ip'].apply(pd.Series)\n",
    "df[['dest_port', 'dest_port_type']] = df['dest_port'].apply(pd.Series)\n",
    "\n",
    "# Drop the original columns\n",
    "# df = df.drop(['source_ip', 'dest_ip'], axis=1)\n",
    "\n",
    "# Display the modified DataFrame\n",
    "df"
   ],
   "metadata": {
    "collapsed": false,
    "ExecuteTime": {
     "end_time": "2023-12-11T07:47:21.903569800Z",
     "start_time": "2023-12-11T07:47:21.858108Z"
    }
   },
   "id": "b28ea730ff2910cd"
  },
  {
   "cell_type": "code",
   "execution_count": null,
   "outputs": [],
   "source": [],
   "metadata": {
    "collapsed": false
   },
   "id": "1ad709c6f395d994"
  }
 ],
 "metadata": {
  "kernelspec": {
   "display_name": "Python 3",
   "language": "python",
   "name": "python3"
  },
  "language_info": {
   "codemirror_mode": {
    "name": "ipython",
    "version": 2
   },
   "file_extension": ".py",
   "mimetype": "text/x-python",
   "name": "python",
   "nbconvert_exporter": "python",
   "pygments_lexer": "ipython2",
   "version": "2.7.6"
  }
 },
 "nbformat": 4,
 "nbformat_minor": 5
}
